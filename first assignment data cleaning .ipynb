{
 "cells": [
  {
   "cell_type": "code",
   "execution_count": 204,
   "metadata": {},
   "outputs": [],
   "source": [
    "import pandas as pd \n",
    "import xlrd\n",
    "# path:  please specify here \n",
    "xls = pd.ExcelFile('C:\\\\Users\\\\Sumit\\\\Desktop\\\\JuPYTER\\\\example BCV.xlsx')\n",
    " \n",
    "df0 = pd.read_excel(xls, 'Raw')\n"
   ]
  },
  {
   "cell_type": "code",
   "execution_count": 206,
   "metadata": {},
   "outputs": [
    {
     "name": "stdout",
     "output_type": "stream",
     "text": [
      " Index(['S/No', 'DSN', 'Incident_Date', 'Replacement_DSN_On_Bus',\n",
      "       'Fault_Detail', 'Root_Cause'],\n",
      "      dtype='object')\n",
      "          S/No                   DSN        Incident_Date  \\\n",
      "0          1.0  BCV-13-0.2-0.4-12027  2016-09-12 00:00:00   \n",
      "1          2.0  BCV-13-0.2-0.4-12220  2016-09-11 00:00:00   \n",
      "2          3.0  BCV-12-0.2-0.4-06638  2016-09-12 00:00:00   \n",
      "3          4.0  BCV-14-0.2-0.6-01036  2016-09-09 00:00:00   \n",
      "4          5.0  BCV-12-0.2-0.4-05321  2016-09-10 00:00:00   \n",
      "5          6.0  BCV-14-0.2-0.6-01151  2016-09-16 00:00:00   \n",
      "6          9.0  BCV-12-0.2-0.4-08478  2016-09-10 00:00:00   \n",
      "7         10.0  BCV-13-0.2-0.4-14661  2016-09-13 00:00:00   \n",
      "8         11.0  BCV-13-0.2-0.4-18195  2016-09-19 00:00:00   \n",
      "9         12.0  BCV-13-0.2-0.4-12576  2016-09-06 00:00:00   \n",
      "10        13.0  BCV-12-0.2-0.4-08193  2016-09-10 00:00:00   \n",
      "11        14.0  BCV-14-0.2-0.6-00779  2016-09-09 00:00:00   \n",
      "12        15.0  BCV-13-0.2-0.5-52965  2016-09-20 00:00:00   \n",
      "13        16.0  BCV-12-0.2-0.4-07138  2016-09-23 00:00:00   \n",
      "14        17.0  BCV-13-0.2-0.5-57319  2016-09-22 00:00:00   \n",
      "15        19.0  BCV-13-0.2-0.4-16804  2016-09-22 00:00:00   \n",
      "16        20.0  BCV-12-0.2-0.4-09033  2016-09-26 00:00:00   \n",
      "17        21.0  BCV-12-0.2-0.4-06092  2016-09-25 00:00:00   \n",
      "18        22.0  BCV-14-0.2-0.6-00112  2016-09-25 00:00:00   \n",
      "19        23.0  BCV-13-0.2-0.5-50389  2016-09-24 00:00:00   \n",
      "20        24.0  BCV-13-0.2-0.5-58409  2016-09-29 00:00:00   \n",
      "21        25.0  BCV-14-0.2-0.6-03409  2016-09-30 00:00:00   \n",
      "22        26.0  BCV-13-0.2-0.5-57965  2016-09-27 00:00:00   \n",
      "23        27.0  BCV-13-0.2-0.5-56542  2016-10-06 00:00:00   \n",
      "24        28.0  BCV-12-0.2-0.4-10224  2016-10-08 00:00:00   \n",
      "25        29.0  BCV-13-0.2-0.5-54544  2016-10-10 00:00:00   \n",
      "26        30.0  BCV-14-0.2-0.6-00103  2016-10-14 00:00:00   \n",
      "27        31.0  BCV-12-0.2-0.4-08363  2016-10-11 00:00:00   \n",
      "28        32.0  BCV-14-0.2-0.6-03422  2016-10-14 00:00:00   \n",
      "29        33.0  BCV-13-0.2-0.4-13506  2016-11-02 00:00:00   \n",
      "...        ...                   ...                  ...   \n",
      "11308  11320.0  BCV-12-0.2-0.4-06196  2018-05-23 00:00:00   \n",
      "11311  11323.0  BCV-13-0.2-0.4-13522  2018-05-23 00:00:00   \n",
      "11312  11324.0  BCV-13-0.2-0.4-14450  2108-05-26 00:00:00   \n",
      "11313  11325.0  BCV-13-0.2-0.4-14599  2018-05-23 00:00:00   \n",
      "11314  11326.0  BCV-13-0.2-0.4-21252  2018-05-22 00:00:00   \n",
      "11315  11327.0  BCV-13-0.2-0.5-50007  2018-05-21 00:00:00   \n",
      "11316  11328.0  BCV-13-0.2-0.5-51055  2018-05-27 00:00:00   \n",
      "11317  11329.0  BCV-13-0.2-0.5-51536  2018-05-27 00:00:00   \n",
      "11318  11330.0  BCV-13-0.2-0.5-51772  2018-05-22 00:00:00   \n",
      "11319  11331.0  BCV-13-0.2-0.5-52054  2018-05-22 00:00:00   \n",
      "11320  11332.0  BCV-13-0.2-0.5-52070  2018-05-26 00:00:00   \n",
      "11321  11333.0  BCV-13-0.2-0.5-52110  2018-05-22 00:00:00   \n",
      "11322  11334.0  BCV-13-0.2-0.5-52138  2018-05-26 00:00:00   \n",
      "11323  11335.0  BCV-13-0.2-0.5-52281  2018-05-23 00:00:00   \n",
      "11324  11336.0  BCV-13-0.2-0.5-53092  2018-05-24 00:00:00   \n",
      "11325  11337.0  BCV-13-0.2-0.5-53670  2018-05-23 00:00:00   \n",
      "11326  11338.0  BCV-13-0.2-0.5-54306  2018-05-22 00:00:00   \n",
      "11327  11339.0  BCV-13-0.2-0.5-59220  2018-05-22 00:00:00   \n",
      "11328  11340.0  BCV-13-0.2-0.4-12903  2018-05-27 00:00:00   \n",
      "11329  11341.0  BCV-13-0.2-0.4-13308  2018-05-25 00:00:00   \n",
      "11330  11342.0  BCV-13-0.2-0.4-13317  2018-05-25 00:00:00   \n",
      "11331  11343.0  BCV-13-0.2-0.4-18935  2018-05-27 00:00:00   \n",
      "11332  11344.0  BCV-13-0.2-0.4-19711  2018-05-25 00:00:00   \n",
      "11333  11345.0  BCV-13-0.2-0.4-21480  2018-05-28 00:00:00   \n",
      "11334  11346.0  BCV-13-0.2-0.5-50307  2018-05-27 00:00:00   \n",
      "11335  11347.0  BCV-13-0.2-0.5-50565  2018-05-24 00:00:00   \n",
      "11336  11348.0  BCV-13-0.2-0.5-53618  2018-05-25 00:00:00   \n",
      "11337  11349.0  BCV-13-0.2-0.5-54238  2018-05-23 00:00:00   \n",
      "11338  11350.0  BCV-13-0.2-0.5-58351  2018-05-27 00:00:00   \n",
      "11339  11351.0  BCV-14-0.2-0.6-03158  2018-05-28 00:00:00   \n",
      "\n",
      "      Replacement_DSN_On_Bus                    Fault_Detail  \\\n",
      "0       BCV-13-0.2-0.4-16804                  No fault found   \n",
      "1       BCV-13-0.2-0.4-21448                  No fault found   \n",
      "2       BCV-13-0.2-0.5-50605                  No fault found   \n",
      "3       BCV-12-0.2-0.4-08193  NAND filesystem startup failed   \n",
      "4       BCV-13-0.2-0.5-50441                  No fault found   \n",
      "5       BCV-13-0.2-0.4-18070                  No fault found   \n",
      "6       BCV-13-0.2-0.4-12355                  No fault found   \n",
      "7       BCV-13-0.2-0.4-12085                           NVRAM   \n",
      "8       BCV-12-0.2-0.4-10198                  No fault found   \n",
      "9       BCV-13-0.2-0.4-12027                  No fault found   \n",
      "10      BCV-12-0.2-0.4-06638                  No fault found   \n",
      "11      BCV-12-0.2-0.4-06172                     Low voltage   \n",
      "12      BCV-13-0.2-0.5-56118                     Low voltage   \n",
      "13      BCV-13-0.2-0.4-12202                  No fault found   \n",
      "14      BCV-13-0.2-0.5-53074                  No fault found   \n",
      "15      BCV-13-0.2-0.4-14673                       Corrupted   \n",
      "16      BCV-13-0.2-0.5-52129                  No fault found   \n",
      "17      BCV-13-0.2-0.4-12064                  No fault found   \n",
      "18      BCV-13-0.2-0.5-56644                  No fault found   \n",
      "19      BCV-13-0.2-0.4-16346  NAND filesystem startup failed   \n",
      "20      BCV-13-0.2-0.4-14241                  No fault found   \n",
      "21      BCV-13-0.2-0.4-12027                  No fault found   \n",
      "22      BCV-13-0.2-0.4-15655                       Corrupted   \n",
      "23      BCV-13-0.2-0.4-12220                  No fault found   \n",
      "24      BCV-12-0.2-0.4-06049                  No fault found   \n",
      "25      BCV-12-0.2-0.4-09033                  No fault found   \n",
      "26      BCV-14-0.2-0.6-03422                  No fault found   \n",
      "27      BCV-13-0.2-0.4-12576                       Corrupted   \n",
      "28      BCV-14-0.2-0.6-00112                       Corrupted   \n",
      "29      BCV-14-0.2-0.6-03423                  No fault found   \n",
      "...                      ...                             ...   \n",
      "11308   BCV-13-0.2-0.5-51462                       Corrupted   \n",
      "11311   BCV-13-0.2-0.5-52343                       Corrupted   \n",
      "11312   BCV-13-0.2-0.4-14505                        Error 18   \n",
      "11313   BCV-13-0.2-0.5-54515                  No fault found   \n",
      "11314   BCV-13-0.2-0.5-53890                       Corrupted   \n",
      "11315   BCV-14-0.2-0.5-01020                       Corrupted   \n",
      "11316   BCV-13-0.2-0.4-12974                       Corrupted   \n",
      "11317   BCV-13-0.2-0.5-57968     Vertical line across screen   \n",
      "11318   BCV-13-0.2-0.5-52601            Version not upgraded   \n",
      "11319   BCV-13-0.2-0.5-59212            Version not upgraded   \n",
      "11320   BCV-13-0.2-0.5-53437                     Low voltage   \n",
      "11321   BCV-13-0.2-0.4-21483            Version not upgraded   \n",
      "11322   BCV-13-0.2-0.4-13348            Version not upgraded   \n",
      "11323   BCV-12-0.2-0.4-05618                      Top casing   \n",
      "11324   BCV-12-0.2-0.4-08798            Version not upgraded   \n",
      "11325   BCV-13-0.2-0.4-18944                       Corrupted   \n",
      "11326   BCV-13-0.2-0.4-17349            Version not upgraded   \n",
      "11327   BCV-13-0.2-0.4-18669                        Error 18   \n",
      "11328   BCV-13-0.2-0.5-59294                       Corrupted   \n",
      "11329   BCV-13-0.2-0.5-51947            Version not upgraded   \n",
      "11330   BCV-13-0.2-0.4-20418            Version not upgraded   \n",
      "11331   BCV-13-0.2-0.5-52224                      Top casing   \n",
      "11332   BCV-13-0.2-0.4-12637            Version not upgraded   \n",
      "11333   BCV-13-0.2-0.5-50347                      Top casing   \n",
      "11334   BCV-13-0.2-0.4-12955                       Corrupted   \n",
      "11335   BCV-14-0.2-0.6-04470                       NOR flash   \n",
      "11336   BCV-13-0.2-0.5-51992            Version not upgraded   \n",
      "11337   BCV-13-0.2-0.5-58121            Version not upgraded   \n",
      "11338   BCV-13-0.2-0.5-51463            Version not upgraded   \n",
      "11339   BCV-13-0.2-0.5-52022                     Low voltage   \n",
      "\n",
      "                                              Root_Cause  \n",
      "0           BCV is working normally in system level test  \n",
      "1           BCV is working normally in system level test  \n",
      "2           BCV is working normally in system level test  \n",
      "3                         NAND filesystem startup failed  \n",
      "4           BCV is working normally in system level test  \n",
      "5           BCV is working normally in system level test  \n",
      "6           BCV is working normally in system level test  \n",
      "7                                     NVRAM is corrupted  \n",
      "8           BCV is working normally in system level test  \n",
      "9           BCV is working normally in system level test  \n",
      "10          BCV is working normally in system level test  \n",
      "11                                   Battery low voltage  \n",
      "12                                   Battery low voltage  \n",
      "13          BCV is working normally in system level test  \n",
      "14          BCV is working normally in system level test  \n",
      "15                          LTA application is corrupted  \n",
      "16          BCV is working normally in system level test  \n",
      "17          BCV is working normally in system level test  \n",
      "18          BCV is working normally in system level test  \n",
      "19                        NAND filesystem startup failed  \n",
      "20          BCV is working normally in system level test  \n",
      "21          BCV is working normally in system level test  \n",
      "22                          LTA application is corrupted  \n",
      "23          BCV is working normally in system level test  \n",
      "24          BCV is working normally in system level test  \n",
      "25          BCV is working normally in system level test  \n",
      "26          BCV is working normally in system level test  \n",
      "27                          LTA application is corrupted  \n",
      "28                          LTA application is corrupted  \n",
      "29           BCV is working normal in system level test.  \n",
      "...                                                  ...  \n",
      "11308                       LTA application is corrupted  \n",
      "11311                                    OS is corrupted  \n",
      "11312               Error 18 was found upon BCV power up  \n",
      "11313       BCV is working normally in system level test  \n",
      "11314                       LTA application is corrupted  \n",
      "11315                       LTA application is corrupted  \n",
      "11316                       LTA application is corrupted  \n",
      "11317            BCV LCD has vertical line across screen  \n",
      "11318  BCV.A.05.08.00, CTRA.06.02.02, LTA applicaton ...  \n",
      "11319  BCV.A.05.08.00, CTRA.06.02.02, LTA applicaton ...  \n",
      "11320                                Battery low voltage  \n",
      "11321  BCV.A.05.08.00, CTRA.06.02.02, LTA applicaton ...  \n",
      "11322  BCV.A.05.08.00, CTRA.06.02.02, LTA applicaton ...  \n",
      "11323                    BCV top casing LED cover issue.  \n",
      "11324  BCV.A.05.08.00, CTRA.06.02.02, LTA applicaton ...  \n",
      "11325                       LTA application is corrupted  \n",
      "11326  BCV.A.05.08.00, CTRA.06.02.02, LTA applicaton ...  \n",
      "11327               Error 18 was found upon BCV power up  \n",
      "11328                       LTA application is corrupted  \n",
      "11329  BCV.A.05.08.00, CTRA.06.02.02, LTA applicaton ...  \n",
      "11330  BCV.A.05.08.00, CTRA.06.02.02, LTA applicaton ...  \n",
      "11331                    BCV top casing LED cover issue.  \n",
      "11332  BCV.A.05.08.00, CTRA.06.02.02, LTA applicaton ...  \n",
      "11333                    BCV top casing LED cover issue.  \n",
      "11334                       LTA application is corrupted  \n",
      "11335                            NOR flash failed in PAT  \n",
      "11336  BCV.A.05.08.00, CTRA.06.02.02, LTA applicaton ...  \n",
      "11337  BCV.A.05.08.00, CTRA.06.02.02, LTA applicaton ...  \n",
      "11338  BCV.A.05.08.00, CTRA.06.02.02, LTA applicaton ...  \n",
      "11339                                Battery low voltage  \n",
      "\n",
      "[10743 rows x 6 columns]\n"
     ]
    }
   ],
   "source": [
    "#print the column names\n",
    "import numpy as np\n",
    "print(\"\" ,df0.columns)\n",
    "\n",
    "\n",
    "df0['DSN'].replace('Not Specified', np.nan, inplace=True)\n",
    "df0['Incident_Date'].replace('Not Specified', np.nan, inplace=True)\n",
    "df0['Replacement_DSN_On_Bus'].replace('Not Specified', np.nan, inplace=True)\n",
    "\n",
    "df0['DSN'].replace('-', np.nan, inplace=True)\n",
    "df0['Incident_Date'].replace('-', np.nan, inplace=True)\n",
    "df0['Replacement_DSN_On_Bus'].replace('-', np.nan, inplace=True)\n",
    "df0.dropna(subset=['DSN'], inplace=True)\n",
    "df0.dropna(subset=['Incident_Date'], inplace=True)\n",
    "df0.dropna(subset=['Replacement_DSN_On_Bus'], inplace=True)\n",
    "print(df0)\n"
   ]
  },
  {
   "cell_type": "code",
   "execution_count": 207,
   "metadata": {},
   "outputs": [
    {
     "data": {
      "text/plain": [
       "10743"
      ]
     },
     "execution_count": 207,
     "metadata": {},
     "output_type": "execute_result"
    }
   ],
   "source": [
    "#get the values for a given column ie. ::  columnB: col_B and ColumnD: col_D\n",
    "col_A = df0['S/No'].values \n",
    "col_C = df0['Incident_Date'].values\n",
    "col_B = df0['DSN'].values \n",
    "col_D = df0['Replacement_DSN_On_Bus'].values\n",
    "col_E = df0['Fault_Detail']\n",
    "col_F = df0['Root_Cause']\n",
    "\n",
    "col_A = list(col_A)\n",
    "col_B = list(col_B)\n",
    "col_C = list(col_C)\n",
    "col_D = list(col_D)\n",
    "col_E = list(col_E)\n",
    "col_F = list(col_F)\n",
    "\n",
    "#print(col_D)\n",
    "#print(len(col_D))\n",
    "\n",
    "\n",
    "#print(col_B)\n",
    "#print(len(col_B))\n",
    "len(col_B)"
   ]
  },
  {
   "cell_type": "code",
   "execution_count": 208,
   "metadata": {},
   "outputs": [],
   "source": [
    "# number of times repeat using counter: \n",
    "from collections import Counter \n",
    "rep_col_D = Counter(col_D)\n",
    "#print(rep_col_D)\n",
    "# convert the counter into the list  \n",
    "lis_d  = list(rep_col_D)\n",
    "#lis_d\n",
    "\n"
   ]
  },
  {
   "cell_type": "code",
   "execution_count": 209,
   "metadata": {},
   "outputs": [],
   "source": [
    "# test the repeat\n",
    "d = Counter(lis_d)\n",
    "#d"
   ]
  },
  {
   "cell_type": "code",
   "execution_count": 210,
   "metadata": {},
   "outputs": [
    {
     "data": {
      "text/plain": [
       "True"
      ]
     },
     "execution_count": 210,
     "metadata": {},
     "output_type": "execute_result"
    }
   ],
   "source": [
    "\n",
    "ind_ger = col_D.index(lis_d[0] )\n",
    "len(col_D)\n",
    "col_D[0] == lis_d[0]\n"
   ]
  },
  {
   "cell_type": "code",
   "execution_count": 211,
   "metadata": {},
   "outputs": [
    {
     "data": {
      "text/plain": [
       "\"answ = []\\n\\nf = 0 \\nfor h in range(len(lis_d)):\\n    k = 0\\n    for i in range(len(col_D)):\\n        if lis_d[f] == col_D[k]:\\n            an = print(col_A[i],',', col_B[i],',', col_C[i],',', col_D[i],',', col_E[i],',', col_F[i])\\n            answ.append(an) \\n        elif lis_d[f] == col_B[k]:\\n            an = print(col_A[i],',', col_B[i],',', col_C[i],',', col_D[i],',', col_E[i],',', col_F[i])\\n            answ.append(an)\\n        \\n        k = k+1\\n\\n    f = f+1\\n\""
      ]
     },
     "execution_count": 211,
     "metadata": {},
     "output_type": "execute_result"
    }
   ],
   "source": [
    "'''answ = []\n",
    "\n",
    "f = 0 \n",
    "for h in range(len(lis_d)):\n",
    "    k = 0\n",
    "    for i in range(len(col_D)):\n",
    "        if lis_d[f] == col_D[k]:\n",
    "            an = print(col_A[i],',', col_B[i],',', col_C[i],',', col_D[i],',', col_E[i],',', col_F[i])\n",
    "            answ.append(an) \n",
    "        elif lis_d[f] == col_B[k]:\n",
    "            an = print(col_A[i],',', col_B[i],',', col_C[i],',', col_D[i],',', col_E[i],',', col_F[i])\n",
    "            answ.append(an)\n",
    "        \n",
    "        k = k+1\n",
    "\n",
    "    f = f+1\n",
    "'''"
   ]
  },
  {
   "cell_type": "code",
   "execution_count": 212,
   "metadata": {},
   "outputs": [],
   "source": [
    "answ = []\n",
    "bnsw = []\n",
    "cnsw = []\n",
    "dnsw = []\n",
    "ensw = []\n",
    "fnsw = []\n",
    "\n",
    "\n",
    "f = 0 \n",
    "for h in range(len(lis_d)):\n",
    "    k = 0\n",
    "    for i in range(len(col_D)):\n",
    "        if lis_d[f] == col_D[k]:\n",
    "            an = col_A[i]\n",
    "            bn = col_B[i]\n",
    "            cn = col_C[i]\n",
    "            dn = col_D[i]\n",
    "            en = col_E[i]\n",
    "            fn = col_F[i]\n",
    "            answ.append(an)\n",
    "            bnsw.append(bn)\n",
    "            cnsw.append(cn)\n",
    "            dnsw.append(dn)\n",
    "            ensw.append(en)\n",
    "            fnsw.append(fn)\n",
    "        elif lis_d[f] == col_B[k]:\n",
    "            an = col_A[i]\n",
    "            bn = col_B[i]\n",
    "            cn = col_C[i]\n",
    "            dn = col_D[i]\n",
    "            en = col_E[i]\n",
    "            fn = col_F[i]\n",
    "            answ.append(an)\n",
    "            bnsw.append(bn)\n",
    "            cnsw.append(cn)\n",
    "            dnsw.append(dn)\n",
    "            ensw.append(en)\n",
    "            fnsw.append(fn)\n",
    "        \n",
    "        k = k+1\n",
    "\n",
    "    f = f+1"
   ]
  },
  {
   "cell_type": "code",
   "execution_count": 213,
   "metadata": {},
   "outputs": [
    {
     "name": "stdout",
     "output_type": "stream",
     "text": [
      "20728\n",
      "20728\n",
      "20728\n",
      "20728\n",
      "20728\n",
      "20728\n"
     ]
    }
   ],
   "source": [
    "\n",
    "\n",
    "\n",
    "print(len(answ))\n",
    "print(len(bnsw))\n",
    "print(len(cnsw))\n",
    "print(len(dnsw))\n",
    "print(len(ensw))\n",
    "print(len(fnsw))\n"
   ]
  },
  {
   "cell_type": "code",
   "execution_count": 214,
   "metadata": {},
   "outputs": [],
   "source": [
    "startcol = 0\n"
   ]
  },
  {
   "cell_type": "code",
   "execution_count": 215,
   "metadata": {},
   "outputs": [
    {
     "data": {
      "text/plain": [
       "20728"
      ]
     },
     "execution_count": 215,
     "metadata": {},
     "output_type": "execute_result"
    }
   ],
   "source": [
    "len(bnsw)\n"
   ]
  },
  {
   "cell_type": "code",
   "execution_count": 216,
   "metadata": {},
   "outputs": [
    {
     "name": "stdout",
     "output_type": "stream",
     "text": [
      "Index(['DSN'], dtype='object')\n"
     ]
    }
   ],
   "source": [
    "print(df2.columns)"
   ]
  },
  {
   "cell_type": "code",
   "execution_count": 218,
   "metadata": {},
   "outputs": [],
   "source": [
    "import pandas as pd\n",
    "\n",
    "# Create some Pandas dataframes from some data.\n",
    "df1 = pd.DataFrame({'s/no': answ})\n",
    "df2 = pd.DataFrame({'DSN': bnsw})\n",
    "df3 = pd.DataFrame({'Incident_Date': cnsw})\n",
    "df4 = pd.DataFrame({'Replacement_DSN_On_Bus': dnsw})\n",
    "df5 = pd.DataFrame({'Fault_Detail': ensw})\n",
    "df6 = pd.DataFrame({'Root_Cause': fnsw})\n",
    "\n",
    "\n",
    "\n",
    "# Create a Pandas Excel writer using XlsxWriter as the engine.\n",
    "writer = pd.ExcelWriter('new_processed.xlsx', engine='xlsxwriter')\n",
    "\n",
    "# Add the first dataframe to the worksheet.\n",
    "df0.to_excel(writer, sheet_name='raw', index=False)\n",
    "df1.to_excel(writer, sheet_name='processed', index=False)\n",
    "\n",
    "offset = 1  # Add extra row for column header.\n",
    "\n",
    "# Add the other dataframes.\n",
    "for df in (df2, df3, df4, df5, df6):\n",
    "    # Write the datafram without a column header or index.\n",
    "    df.to_excel(writer, sheet_name='processed', startcol=offset, index=False)\n",
    "\n",
    "    offset += 1\n",
    "\n",
    "# Close the Pandas Excel writer and output the Excel file.\n",
    "writer.save()"
   ]
  }
 ],
 "metadata": {
  "kernelspec": {
   "display_name": "Python 3",
   "language": "python",
   "name": "python3"
  },
  "language_info": {
   "codemirror_mode": {
    "name": "ipython",
    "version": 3
   },
   "file_extension": ".py",
   "mimetype": "text/x-python",
   "name": "python",
   "nbconvert_exporter": "python",
   "pygments_lexer": "ipython3",
   "version": "3.6.5"
  }
 },
 "nbformat": 4,
 "nbformat_minor": 2
}
